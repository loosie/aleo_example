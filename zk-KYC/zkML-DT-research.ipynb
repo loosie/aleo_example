{
  "cells": [
    {
      "cell_type": "code",
      "execution_count": 1,
      "metadata": {
        "colab": {
          "base_uri": "https://localhost:8080/"
        },
        "id": "csqsXYynHuNl",
        "outputId": "df175c2e-11fc-4046-9451-400a25ff8bcb"
      },
      "outputs": [
        {
          "name": "stdout",
          "output_type": "stream",
          "text": [
            "Collecting names\n",
            "\u001b[?25l  Downloading https://files.pythonhosted.org/packages/44/4e/f9cb7ef2df0250f4ba3334fbdabaa94f9c88097089763d8e85ada8092f84/names-0.3.0.tar.gz (789kB)\n",
            "\u001b[K     |████████████████████████████████| 798kB 8.5MB/s eta 0:00:01\n",
            "\u001b[?25hInstalling collected packages: names\n",
            "  Running setup.py install for names ... \u001b[?25ldone\n",
            "\u001b[?25hSuccessfully installed names-0.3.0\n",
            "\u001b[33mWARNING: You are using pip version 19.2.3, however version 24.0 is available.\n",
            "You should consider upgrading via the 'pip install --upgrade pip' command.\u001b[0m\n"
          ]
        }
      ],
      "source": [
        "!pip install names"
      ]
    },
    {
      "cell_type": "code",
      "execution_count": 2,
      "metadata": {
        "id": "GMa0_O1qDF6i"
      },
      "outputs": [],
      "source": [
        "import pandas as pd\n",
        "import names as nm\n",
        "import random"
      ]
    },
    {
      "cell_type": "markdown",
      "metadata": {
        "id": "w4r4VO4uvdRi"
      },
      "source": [
        "## Synthetic dataset"
      ]
    },
    {
      "cell_type": "code",
      "execution_count": 3,
      "metadata": {
        "colab": {
          "base_uri": "https://localhost:8080/"
        },
        "id": "tR1gdXcHHtAx",
        "outputId": "2398971d-d82d-4e0d-abb8-dd298919936c"
      },
      "outputs": [
        {
          "data": {
            "text/plain": [
              "(['Suzanne', 'Ty', 'Keith', 'Rufina', 'Dorothy'],\n",
              " ['Spiegler', 'Limberg', 'Clemons', 'Zuleger', 'West'])"
            ]
          },
          "execution_count": 3,
          "metadata": {},
          "output_type": "execute_result"
        }
      ],
      "source": [
        "def get_names(is_first_name, amount):\n",
        "  names = []\n",
        "  while len(names) < amount:\n",
        "    name = nm.get_first_name() if is_first_name else nm.get_last_name()\n",
        "    if name not in names:\n",
        "      names.append(name)\n",
        "  return names\n",
        "   \n",
        "first_names = get_names(True, 100)\n",
        "last_names = get_names(False, 400)\n",
        "first_names[:5], last_names[:5]"
      ]
    },
    {
      "cell_type": "code",
      "execution_count": 4,
      "metadata": {
        "id": "Hq6FgI6FcQ_4"
      },
      "outputs": [],
      "source": [
        "all_jurisdictions = ['Australia', 'Belgium', 'Brazil', 'Bulgaria', 'Cyprus', 'Czech Republic',\n",
        "                  'Guatemala', 'Mexico', 'Honduras', 'Costa Rica', 'Colombia', 'Greece', 'Hungary',\n",
        "                  'India', 'Indonesia', 'Ireland', 'Italy', 'Syria', 'Japan', 'Latvia', 'Lithuania',\n",
        "                  'Luxembourg', 'Malta', 'Jamaica', 'Ireland', 'Turkey', 'United Kingdom',\n",
        "                  'United States']"
      ]
    },
    {
      "cell_type": "code",
      "execution_count": 5,
      "metadata": {
        "colab": {
          "base_uri": "https://localhost:8080/",
          "height": 419
        },
        "id": "qJ-qhEBodXhA",
        "outputId": "d5ad3392-d18d-424b-bfe5-4dc1d5e46b40"
      },
      "outputs": [
        {
          "data": {
            "text/html": [
              "<div>\n",
              "<style scoped>\n",
              "    .dataframe tbody tr th:only-of-type {\n",
              "        vertical-align: middle;\n",
              "    }\n",
              "\n",
              "    .dataframe tbody tr th {\n",
              "        vertical-align: top;\n",
              "    }\n",
              "\n",
              "    .dataframe thead th {\n",
              "        text-align: right;\n",
              "    }\n",
              "</style>\n",
              "<table border=\"1\" class=\"dataframe\">\n",
              "  <thead>\n",
              "    <tr style=\"text-align: right;\">\n",
              "      <th></th>\n",
              "      <th>first_name</th>\n",
              "      <th>last_name</th>\n",
              "      <th>country</th>\n",
              "    </tr>\n",
              "  </thead>\n",
              "  <tbody>\n",
              "    <tr>\n",
              "      <th>0</th>\n",
              "      <td>Amy</td>\n",
              "      <td>Logiudice</td>\n",
              "      <td>Brazil</td>\n",
              "    </tr>\n",
              "    <tr>\n",
              "      <th>1</th>\n",
              "      <td>Daniel</td>\n",
              "      <td>Gallegos</td>\n",
              "      <td>Ireland</td>\n",
              "    </tr>\n",
              "    <tr>\n",
              "      <th>2</th>\n",
              "      <td>Rufina</td>\n",
              "      <td>Ozga</td>\n",
              "      <td>Brazil</td>\n",
              "    </tr>\n",
              "    <tr>\n",
              "      <th>3</th>\n",
              "      <td>James</td>\n",
              "      <td>Porat</td>\n",
              "      <td>Guatemala</td>\n",
              "    </tr>\n",
              "    <tr>\n",
              "      <th>4</th>\n",
              "      <td>Robert</td>\n",
              "      <td>Thompson</td>\n",
              "      <td>Turkey</td>\n",
              "    </tr>\n",
              "    <tr>\n",
              "      <th>...</th>\n",
              "      <td>...</td>\n",
              "      <td>...</td>\n",
              "      <td>...</td>\n",
              "    </tr>\n",
              "    <tr>\n",
              "      <th>495</th>\n",
              "      <td>Randy</td>\n",
              "      <td>Moxley</td>\n",
              "      <td>United States</td>\n",
              "    </tr>\n",
              "    <tr>\n",
              "      <th>496</th>\n",
              "      <td>Lisa</td>\n",
              "      <td>Crews</td>\n",
              "      <td>Turkey</td>\n",
              "    </tr>\n",
              "    <tr>\n",
              "      <th>497</th>\n",
              "      <td>Suzanne</td>\n",
              "      <td>Campbell</td>\n",
              "      <td>Mexico</td>\n",
              "    </tr>\n",
              "    <tr>\n",
              "      <th>498</th>\n",
              "      <td>Kaye</td>\n",
              "      <td>Lukach</td>\n",
              "      <td>Bulgaria</td>\n",
              "    </tr>\n",
              "    <tr>\n",
              "      <th>499</th>\n",
              "      <td>Peggy</td>\n",
              "      <td>Wisdom</td>\n",
              "      <td>Ireland</td>\n",
              "    </tr>\n",
              "  </tbody>\n",
              "</table>\n",
              "<p>500 rows × 3 columns</p>\n",
              "</div>"
            ],
            "text/plain": [
              "    first_name  last_name        country\n",
              "0          Amy  Logiudice         Brazil\n",
              "1       Daniel   Gallegos        Ireland\n",
              "2       Rufina       Ozga         Brazil\n",
              "3        James      Porat      Guatemala\n",
              "4       Robert   Thompson         Turkey\n",
              "..         ...        ...            ...\n",
              "495      Randy     Moxley  United States\n",
              "496       Lisa      Crews         Turkey\n",
              "497    Suzanne   Campbell         Mexico\n",
              "498       Kaye     Lukach       Bulgaria\n",
              "499      Peggy     Wisdom        Ireland\n",
              "\n",
              "[500 rows x 3 columns]"
            ]
          },
          "execution_count": 5,
          "metadata": {},
          "output_type": "execute_result"
        }
      ],
      "source": [
        "def generate_people_dataset(num):\n",
        "  data = []\n",
        "  for _ in range(num):\n",
        "    data.append((random.choice(first_names),random.choice(last_names), random.choice(all_jurisdictions)))\n",
        "  return pd.DataFrame(data, columns=['first_name', 'last_name', 'country'])\n",
        "\n",
        "df_people = generate_people_dataset(500)\n",
        "df_people"
      ]
    },
    {
      "cell_type": "markdown",
      "metadata": {
        "id": "r-aPaXyFvngR"
      },
      "source": [
        "## Creating features for KYC synthetic dataset"
      ]
    },
    {
      "cell_type": "code",
      "execution_count": 6,
      "metadata": {
        "colab": {
          "base_uri": "https://localhost:8080/"
        },
        "id": "0ddz4dA4TxcA",
        "outputId": "f7d63c6f-5240-4786-f2fb-9a222e30dae5"
      },
      "outputs": [
        {
          "data": {
            "text/plain": [
              "['Spiegler',\n",
              " 'Limberg',\n",
              " 'Clemons',\n",
              " 'Zuleger',\n",
              " 'West',\n",
              " 'Brewington',\n",
              " 'Shaw',\n",
              " 'Butcher',\n",
              " 'Stahlhut',\n",
              " 'Eberhard',\n",
              " 'Guzma',\n",
              " 'Zurita',\n",
              " 'Mcbeth',\n",
              " 'Channell',\n",
              " 'Mayer',\n",
              " 'Lewandowski',\n",
              " 'Dakins',\n",
              " 'Short',\n",
              " 'Jarrett',\n",
              " 'Icardo',\n",
              " 'Cardinal',\n",
              " 'Garmon',\n",
              " 'Haifley',\n",
              " 'Sample',\n",
              " 'Johnson',\n",
              " 'Arbeiter',\n",
              " 'Cole',\n",
              " 'Strand',\n",
              " 'Bradshaw',\n",
              " 'Lingenfelter']"
            ]
          },
          "execution_count": 6,
          "metadata": {},
          "output_type": "execute_result"
        }
      ],
      "source": [
        "# to track relatives if money laundering goes through them too\n",
        "famous_money_laundering_lastnames = last_names[:30]\n",
        "famous_money_laundering_lastnames"
      ]
    },
    {
      "cell_type": "code",
      "execution_count": 7,
      "metadata": {
        "id": "BrunUiKMKm3b"
      },
      "outputs": [],
      "source": [
        "# Random example of prohibited jurisdictions for specific event\n",
        "prohibited_jurisdictions = ['United States', 'Syria']                "
      ]
    },
    {
      "cell_type": "code",
      "execution_count": 9,
      "metadata": {
        "colab": {
          "base_uri": "https://localhost:8080/",
          "height": 419
        },
        "id": "7snrz3sDKoGO",
        "outputId": "49a5e5eb-69f7-4312-d236-06f9f37810de"
      },
      "outputs": [
        {
          "data": {
            "text/html": [
              "<div>\n",
              "<style scoped>\n",
              "    .dataframe tbody tr th:only-of-type {\n",
              "        vertical-align: middle;\n",
              "    }\n",
              "\n",
              "    .dataframe tbody tr th {\n",
              "        vertical-align: top;\n",
              "    }\n",
              "\n",
              "    .dataframe thead th {\n",
              "        text-align: right;\n",
              "    }\n",
              "</style>\n",
              "<table border=\"1\" class=\"dataframe\">\n",
              "  <thead>\n",
              "    <tr style=\"text-align: right;\">\n",
              "      <th></th>\n",
              "      <th>possible_relative_for_money_laundering</th>\n",
              "      <th>is_prohibited_jurisdiction</th>\n",
              "      <th>with_vpn</th>\n",
              "      <th>sending_time_sec</th>\n",
              "      <th>photo_quality</th>\n",
              "      <th>pass_kyc</th>\n",
              "    </tr>\n",
              "  </thead>\n",
              "  <tbody>\n",
              "    <tr>\n",
              "      <th>0</th>\n",
              "      <td>False</td>\n",
              "      <td>False</td>\n",
              "      <td>False</td>\n",
              "      <td>108</td>\n",
              "      <td>6</td>\n",
              "      <td>True</td>\n",
              "    </tr>\n",
              "    <tr>\n",
              "      <th>1</th>\n",
              "      <td>False</td>\n",
              "      <td>False</td>\n",
              "      <td>True</td>\n",
              "      <td>9</td>\n",
              "      <td>7</td>\n",
              "      <td>True</td>\n",
              "    </tr>\n",
              "    <tr>\n",
              "      <th>2</th>\n",
              "      <td>False</td>\n",
              "      <td>False</td>\n",
              "      <td>False</td>\n",
              "      <td>46</td>\n",
              "      <td>3</td>\n",
              "      <td>True</td>\n",
              "    </tr>\n",
              "    <tr>\n",
              "      <th>3</th>\n",
              "      <td>False</td>\n",
              "      <td>False</td>\n",
              "      <td>False</td>\n",
              "      <td>58</td>\n",
              "      <td>10</td>\n",
              "      <td>False</td>\n",
              "    </tr>\n",
              "    <tr>\n",
              "      <th>4</th>\n",
              "      <td>False</td>\n",
              "      <td>False</td>\n",
              "      <td>True</td>\n",
              "      <td>131</td>\n",
              "      <td>6</td>\n",
              "      <td>True</td>\n",
              "    </tr>\n",
              "    <tr>\n",
              "      <th>...</th>\n",
              "      <td>...</td>\n",
              "      <td>...</td>\n",
              "      <td>...</td>\n",
              "      <td>...</td>\n",
              "      <td>...</td>\n",
              "      <td>...</td>\n",
              "    </tr>\n",
              "    <tr>\n",
              "      <th>495</th>\n",
              "      <td>False</td>\n",
              "      <td>True</td>\n",
              "      <td>False</td>\n",
              "      <td>144</td>\n",
              "      <td>5</td>\n",
              "      <td>False</td>\n",
              "    </tr>\n",
              "    <tr>\n",
              "      <th>496</th>\n",
              "      <td>False</td>\n",
              "      <td>False</td>\n",
              "      <td>False</td>\n",
              "      <td>132</td>\n",
              "      <td>1</td>\n",
              "      <td>True</td>\n",
              "    </tr>\n",
              "    <tr>\n",
              "      <th>497</th>\n",
              "      <td>False</td>\n",
              "      <td>False</td>\n",
              "      <td>False</td>\n",
              "      <td>82</td>\n",
              "      <td>0</td>\n",
              "      <td>True</td>\n",
              "    </tr>\n",
              "    <tr>\n",
              "      <th>498</th>\n",
              "      <td>False</td>\n",
              "      <td>False</td>\n",
              "      <td>False</td>\n",
              "      <td>76</td>\n",
              "      <td>2</td>\n",
              "      <td>True</td>\n",
              "    </tr>\n",
              "    <tr>\n",
              "      <th>499</th>\n",
              "      <td>False</td>\n",
              "      <td>False</td>\n",
              "      <td>False</td>\n",
              "      <td>99</td>\n",
              "      <td>0</td>\n",
              "      <td>True</td>\n",
              "    </tr>\n",
              "  </tbody>\n",
              "</table>\n",
              "<p>500 rows × 6 columns</p>\n",
              "</div>"
            ],
            "text/plain": [
              "     possible_relative_for_money_laundering  is_prohibited_jurisdiction  \\\n",
              "0                                     False                       False   \n",
              "1                                     False                       False   \n",
              "2                                     False                       False   \n",
              "3                                     False                       False   \n",
              "4                                     False                       False   \n",
              "..                                      ...                         ...   \n",
              "495                                   False                        True   \n",
              "496                                   False                       False   \n",
              "497                                   False                       False   \n",
              "498                                   False                       False   \n",
              "499                                   False                       False   \n",
              "\n",
              "     with_vpn  sending_time_sec  photo_quality  pass_kyc  \n",
              "0       False               108              6      True  \n",
              "1        True                 9              7      True  \n",
              "2       False                46              3      True  \n",
              "3       False                58             10     False  \n",
              "4        True               131              6      True  \n",
              "..        ...               ...            ...       ...  \n",
              "495     False               144              5     False  \n",
              "496     False               132              1      True  \n",
              "497     False                82              0      True  \n",
              "498     False                76              2      True  \n",
              "499     False                99              0      True  \n",
              "\n",
              "[500 rows x 6 columns]"
            ]
          },
          "execution_count": 9,
          "metadata": {},
          "output_type": "execute_result"
        }
      ],
      "source": [
        "def random_bool_with(percentage):\n",
        "  return random.randint(1, 100) < percentage\n",
        "\n",
        "def generate_feature_dataset():\n",
        "  data = []\n",
        "  for i, row in df_people.iterrows():\n",
        "    pass_kyc = True\n",
        "    features = {}\n",
        "\n",
        "    # Money launderer's namesake could potentially be his relative\n",
        "    # 돈 세탁으로 유명한 성을 가진 가문일 경우 \n",
        "    features['possible_relative_for_money_laundering'] = (row['last_name'] in famous_money_laundering_lastnames)\n",
        "    if features['possible_relative_for_money_laundering']:\n",
        "      pass_kyc &= random_bool_with(percentage=60)\n",
        "\n",
        "    # 거부 관할권 국가인지 확인\n",
        "    # If a person is from a prohibited jurisdiction for this event, then KYC fails\n",
        "    features['is_prohibited_jurisdiction'] = (row['country'] in prohibited_jurisdictions)\n",
        "    if features['is_prohibited_jurisdiction']:\n",
        "      pass_kyc = False\n",
        "\n",
        "    # Using a VPN to hide your true jurisdiction is suspect\n",
        "    features['with_vpn'] = random_bool_with(percentage=20)\n",
        "    if features['with_vpn']:\n",
        "      pass_kyc &= random_bool_with(percentage=85)\n",
        "\n",
        "    # If a large amount of time is spent on KYC, it is suspicious\n",
        "    # Also, if the sending time is close to zero, then it is possible bot/script\n",
        "    features['sending_time_sec'] = random.randint(0, 200)\n",
        "    if features['sending_time_sec'] > 160:\n",
        "      pass_kyc &= random_bool_with(percentage=70)\n",
        "    if features['sending_time_sec'] < 5:\n",
        "      pass_kyc &= random_bool_with(percentage=10)\n",
        "\n",
        "    # If the photo of the document is perfect quality,\n",
        "    # then there is a high probability of a pre-prepared photo using virtual camera\n",
        "    features['photo_quality'] = random.randint(0, 10)\n",
        "    if features['photo_quality'] == 10:\n",
        "      pass_kyc &= random_bool_with(percentage=10)\n",
        "\n",
        "    \n",
        "    features['pass_kyc'] = pass_kyc\n",
        "    data.append(features)\n",
        "  return pd.DataFrame(data)\n",
        "\n",
        "df = generate_feature_dataset()\n",
        "df  "
      ]
    },
    {
      "cell_type": "markdown",
      "metadata": {
        "id": "OfaLz6L1vM-4"
      },
      "source": [
        "## Train Model(DecisionTreeClassifier) using features from our synthetic dataset"
      ]
    },
    {
      "cell_type": "code",
      "execution_count": 10,
      "metadata": {
        "colab": {
          "base_uri": "https://localhost:8080/"
        },
        "id": "npx-F4q3urnb",
        "outputId": "2459c713-96a1-4795-8452-5afd9593904f"
      },
      "outputs": [
        {
          "data": {
            "text/plain": [
              "(400, 100)"
            ]
          },
          "execution_count": 10,
          "metadata": {},
          "output_type": "execute_result"
        }
      ],
      "source": [
        "from sklearn import tree\n",
        "from sklearn.model_selection import train_test_split\n",
        "from sklearn.metrics import f1_score\n",
        "\n",
        "y = df['pass_kyc']\n",
        "X = df.drop(columns=['pass_kyc'])\n",
        "x_train, x_test, y_train, y_test = train_test_split(X, y, test_size=0.2, random_state=42)\n",
        "len(x_train), len(x_test)"
      ]
    },
    {
      "cell_type": "code",
      "execution_count": 11,
      "metadata": {
        "id": "XEn-tDIaxXFT"
      },
      "outputs": [],
      "source": [
        "clf = tree.DecisionTreeClassifier()\n",
        "clf = clf.fit(x_train, y_train)"
      ]
    },
    {
      "cell_type": "code",
      "execution_count": 12,
      "metadata": {
        "colab": {
          "base_uri": "https://localhost:8080/"
        },
        "id": "XapQOBh7wtYd",
        "outputId": "e938a1ab-bf7f-4041-98ec-5c433ed8ca0d"
      },
      "outputs": [
        {
          "name": "stdout",
          "output_type": "stream",
          "text": [
            "f1-score: 0.9411764705882352\n"
          ]
        }
      ],
      "source": [
        "y_pred = clf.predict(x_test)\n",
        "print(\"f1-score:\", f1_score(y_test, y_pred))"
      ]
    },
    {
      "cell_type": "markdown",
      "metadata": {
        "id": "M7c_pwigRRD7"
      },
      "source": [
        "## Converting DecisionTree model to Leo programming language"
      ]
    },
    {
      "cell_type": "code",
      "execution_count": 15,
      "metadata": {
        "colab": {
          "base_uri": "https://localhost:8080/"
        },
        "id": "wQSE_0WEzDsu",
        "outputId": "228ab4af-be19-4f63-b7e4-2a3022bc6574"
      },
      "outputs": [
        {
          "name": "stdout",
          "output_type": "stream",
          "text": [
            "program dt.aleo {\n",
            "\t// Code auto generated from DecisionTreeClassifier using dt_to_leo_code.py \n",
            "\ttransition main(p1: u32, p2: u32, p3: u32, p4: u32, p5: u32) -> public u32 {\n",
            "\t\tif (p5 < 10u32) {\n",
            "\t\t\tif (p2 < 1u32) {\n",
            "\t\t\t\tif (p1 < 1u32) {\n",
            "\t\t\t\t\tif (p4 < 5u32) {\n",
            "\t\t\t\t\t\tif (p5 < 6u32) {\n",
            "\t\t\t\t\t\t\tif (p4 < 1u32) {\n",
            "\t\t\t\t\t\t\t\tif (p3 < 1u32) {\n",
            "\t\t\t\t\t\t\t\t\treturn 1u32;\n",
            "\t\t\t\t\t\t\t\t} else {\n",
            "\t\t\t\t\t\t\t\t\treturn 0u32;\n",
            "\t\t\t\t\t\t\t\t}\n",
            "\t\t\t\t\t\t\t} else {\n",
            "\t\t\t\t\t\t\t\treturn 0u32;\n",
            "\t\t\t\t\t\t\t}\n",
            "\t\t\t\t\t\t} else {\n",
            "\t\t\t\t\t\t\tif (p5 <= 7u32) {\n",
            "\t\t\t\t\t\t\t\treturn 1u32;\n",
            "\t\t\t\t\t\t\t} else {\n",
            "\t\t\t\t\t\t\t\tif (p4 < 1u32) {\n",
            "\t\t\t\t\t\t\t\t\tif (p5 < 9u32) {\n",
            "\t\t\t\t\t\t\t\t\t\treturn 0u32;\n",
            "\t\t\t\t\t\t\t\t\t} else {\n",
            "\t\t\t\t\t\t\t\t\t\treturn 1u32;\n",
            "\t\t\t\t\t\t\t\t\t}\n",
            "\t\t\t\t\t\t\t\t} else {\n",
            "\t\t\t\t\t\t\t\t\treturn 0u32;\n",
            "\t\t\t\t\t\t\t\t}\n",
            "\t\t\t\t\t\t\t}\n",
            "\t\t\t\t\t\t}\n",
            "\t\t\t\t\t} else {\n",
            "\t\t\t\t\t\tif (p4 < 180u32) {\n",
            "\t\t\t\t\t\t\tif (p3 < 1u32) {\n",
            "\t\t\t\t\t\t\t\tif (p4 < 162u32) {\n",
            "\t\t\t\t\t\t\t\t\treturn 1u32;\n",
            "\t\t\t\t\t\t\t\t} else {\n",
            "\t\t\t\t\t\t\t\t\tif (p4 < 166u32) {\n",
            "\t\t\t\t\t\t\t\t\t\tif (p4 < 165u32) {\n",
            "\t\t\t\t\t\t\t\t\t\t\tif (p4 < 163u32) {\n",
            "\t\t\t\t\t\t\t\t\t\t\t\treturn 0u32;\n",
            "\t\t\t\t\t\t\t\t\t\t\t} else {\n",
            "\t\t\t\t\t\t\t\t\t\t\t\treturn 1u32;\n",
            "\t\t\t\t\t\t\t\t\t\t\t}\n",
            "\t\t\t\t\t\t\t\t\t\t} else {\n",
            "\t\t\t\t\t\t\t\t\t\t\treturn 0u32;\n",
            "\t\t\t\t\t\t\t\t\t\t}\n",
            "\t\t\t\t\t\t\t\t\t} else {\n",
            "\t\t\t\t\t\t\t\t\t\treturn 1u32;\n",
            "\t\t\t\t\t\t\t\t\t}\n",
            "\t\t\t\t\t\t\t\t}\n",
            "\t\t\t\t\t\t\t} else {\n",
            "\t\t\t\t\t\t\t\tif (p4 < 31u32) {\n",
            "\t\t\t\t\t\t\t\t\tif (p4 < 23u32) {\n",
            "\t\t\t\t\t\t\t\t\t\tif (p5 < 2u32) {\n",
            "\t\t\t\t\t\t\t\t\t\t\tif (p5 < 1u32) {\n",
            "\t\t\t\t\t\t\t\t\t\t\t\treturn 1u32;\n",
            "\t\t\t\t\t\t\t\t\t\t\t} else {\n",
            "\t\t\t\t\t\t\t\t\t\t\t\treturn 0u32;\n",
            "\t\t\t\t\t\t\t\t\t\t\t}\n",
            "\t\t\t\t\t\t\t\t\t\t} else {\n",
            "\t\t\t\t\t\t\t\t\t\t\treturn 1u32;\n",
            "\t\t\t\t\t\t\t\t\t\t}\n",
            "\t\t\t\t\t\t\t\t\t} else {\n",
            "\t\t\t\t\t\t\t\t\t\treturn 0u32;\n",
            "\t\t\t\t\t\t\t\t\t}\n",
            "\t\t\t\t\t\t\t\t} else {\n",
            "\t\t\t\t\t\t\t\t\tif (p5 < 7u32) {\n",
            "\t\t\t\t\t\t\t\t\t\treturn 1u32;\n",
            "\t\t\t\t\t\t\t\t\t} else {\n",
            "\t\t\t\t\t\t\t\t\t\tif (p5 < 8u32) {\n",
            "\t\t\t\t\t\t\t\t\t\t\treturn 0u32;\n",
            "\t\t\t\t\t\t\t\t\t\t} else {\n",
            "\t\t\t\t\t\t\t\t\t\t\treturn 1u32;\n",
            "\t\t\t\t\t\t\t\t\t\t}\n",
            "\t\t\t\t\t\t\t\t\t}\n",
            "\t\t\t\t\t\t\t\t}\n",
            "\t\t\t\t\t\t\t}\n",
            "\t\t\t\t\t\t} else {\n",
            "\t\t\t\t\t\t\tif (p4 < 188u32) {\n",
            "\t\t\t\t\t\t\t\tif (p4 < 182u32) {\n",
            "\t\t\t\t\t\t\t\t\tif (p5 <= 4u32) {\n",
            "\t\t\t\t\t\t\t\t\t\tif (p5 < 3u32) {\n",
            "\t\t\t\t\t\t\t\t\t\t\treturn 1u32;\n",
            "\t\t\t\t\t\t\t\t\t\t} else {\n",
            "\t\t\t\t\t\t\t\t\t\t\treturn 0u32;\n",
            "\t\t\t\t\t\t\t\t\t\t}\n",
            "\t\t\t\t\t\t\t\t\t} else {\n",
            "\t\t\t\t\t\t\t\t\t\treturn 1u32;\n",
            "\t\t\t\t\t\t\t\t\t}\n",
            "\t\t\t\t\t\t\t\t} else {\n",
            "\t\t\t\t\t\t\t\t\tif (p5 < 1u32) {\n",
            "\t\t\t\t\t\t\t\t\t\treturn 1u32;\n",
            "\t\t\t\t\t\t\t\t\t} else {\n",
            "\t\t\t\t\t\t\t\t\t\tif (p4 < 185u32) {\n",
            "\t\t\t\t\t\t\t\t\t\t\tif (p5 < 7u32) {\n",
            "\t\t\t\t\t\t\t\t\t\t\t\treturn 0u32;\n",
            "\t\t\t\t\t\t\t\t\t\t\t} else {\n",
            "\t\t\t\t\t\t\t\t\t\t\t\tif (p4 < 184u32) {\n",
            "\t\t\t\t\t\t\t\t\t\t\t\t\treturn 1u32;\n",
            "\t\t\t\t\t\t\t\t\t\t\t\t} else {\n",
            "\t\t\t\t\t\t\t\t\t\t\t\t\treturn 0u32;\n",
            "\t\t\t\t\t\t\t\t\t\t\t\t}\n",
            "\t\t\t\t\t\t\t\t\t\t\t}\n",
            "\t\t\t\t\t\t\t\t\t\t} else {\n",
            "\t\t\t\t\t\t\t\t\t\t\tif (p5 < 6u32) {\n",
            "\t\t\t\t\t\t\t\t\t\t\t\tif (p5 < 4u32) {\n",
            "\t\t\t\t\t\t\t\t\t\t\t\t\tif (p4 < 186u32) {\n",
            "\t\t\t\t\t\t\t\t\t\t\t\t\t\treturn 1u32;\n",
            "\t\t\t\t\t\t\t\t\t\t\t\t\t} else {\n",
            "\t\t\t\t\t\t\t\t\t\t\t\t\t\treturn 0u32;\n",
            "\t\t\t\t\t\t\t\t\t\t\t\t\t}\n",
            "\t\t\t\t\t\t\t\t\t\t\t\t} else {\n",
            "\t\t\t\t\t\t\t\t\t\t\t\t\treturn 1u32;\n",
            "\t\t\t\t\t\t\t\t\t\t\t\t}\n",
            "\t\t\t\t\t\t\t\t\t\t\t} else {\n",
            "\t\t\t\t\t\t\t\t\t\t\t\treturn 0u32;\n",
            "\t\t\t\t\t\t\t\t\t\t\t}\n",
            "\t\t\t\t\t\t\t\t\t\t}\n",
            "\t\t\t\t\t\t\t\t\t}\n",
            "\t\t\t\t\t\t\t\t}\n",
            "\t\t\t\t\t\t\t} else {\n",
            "\t\t\t\t\t\t\t\tif (p4 < 197u32) {\n",
            "\t\t\t\t\t\t\t\t\tif (p5 < 7u32) {\n",
            "\t\t\t\t\t\t\t\t\t\treturn 1u32;\n",
            "\t\t\t\t\t\t\t\t\t} else {\n",
            "\t\t\t\t\t\t\t\t\t\tif (p5 < 8u32) {\n",
            "\t\t\t\t\t\t\t\t\t\t\treturn 0u32;\n",
            "\t\t\t\t\t\t\t\t\t\t} else {\n",
            "\t\t\t\t\t\t\t\t\t\t\treturn 1u32;\n",
            "\t\t\t\t\t\t\t\t\t\t}\n",
            "\t\t\t\t\t\t\t\t\t}\n",
            "\t\t\t\t\t\t\t\t} else {\n",
            "\t\t\t\t\t\t\t\t\tif (p4 < 199u32) {\n",
            "\t\t\t\t\t\t\t\t\t\tif (p5 < 2u32) {\n",
            "\t\t\t\t\t\t\t\t\t\t\treturn 1u32;\n",
            "\t\t\t\t\t\t\t\t\t\t} else {\n",
            "\t\t\t\t\t\t\t\t\t\t\tif (p3 < 1u32) {\n",
            "\t\t\t\t\t\t\t\t\t\t\t\tif (p5 <= 5u32) {\n",
            "\t\t\t\t\t\t\t\t\t\t\t\t\treturn 1u32;\n",
            "\t\t\t\t\t\t\t\t\t\t\t\t} else {\n",
            "\t\t\t\t\t\t\t\t\t\t\t\t\treturn 0u32;\n",
            "\t\t\t\t\t\t\t\t\t\t\t\t}\n",
            "\t\t\t\t\t\t\t\t\t\t\t} else {\n",
            "\t\t\t\t\t\t\t\t\t\t\t\treturn 0u32;\n",
            "\t\t\t\t\t\t\t\t\t\t\t}\n",
            "\t\t\t\t\t\t\t\t\t\t}\n",
            "\t\t\t\t\t\t\t\t\t} else {\n",
            "\t\t\t\t\t\t\t\t\t\treturn 1u32;\n",
            "\t\t\t\t\t\t\t\t\t}\n",
            "\t\t\t\t\t\t\t\t}\n",
            "\t\t\t\t\t\t\t}\n",
            "\t\t\t\t\t\t}\n",
            "\t\t\t\t\t}\n",
            "\t\t\t\t} else {\n",
            "\t\t\t\t\tif (p4 < 27u32) {\n",
            "\t\t\t\t\t\treturn 0u32;\n",
            "\t\t\t\t\t} else {\n",
            "\t\t\t\t\t\tif (p4 <= 46u32) {\n",
            "\t\t\t\t\t\t\treturn 1u32;\n",
            "\t\t\t\t\t\t} else {\n",
            "\t\t\t\t\t\t\tif (p4 <= 64u32) {\n",
            "\t\t\t\t\t\t\t\treturn 0u32;\n",
            "\t\t\t\t\t\t\t} else {\n",
            "\t\t\t\t\t\t\t\tif (p4 < 163u32) {\n",
            "\t\t\t\t\t\t\t\t\tif (p5 < 4u32) {\n",
            "\t\t\t\t\t\t\t\t\t\tif (p4 <= 89u32) {\n",
            "\t\t\t\t\t\t\t\t\t\t\treturn 1u32;\n",
            "\t\t\t\t\t\t\t\t\t\t} else {\n",
            "\t\t\t\t\t\t\t\t\t\t\treturn 0u32;\n",
            "\t\t\t\t\t\t\t\t\t\t}\n",
            "\t\t\t\t\t\t\t\t\t} else {\n",
            "\t\t\t\t\t\t\t\t\t\tif (p4 < 84u32) {\n",
            "\t\t\t\t\t\t\t\t\t\t\treturn 0u32;\n",
            "\t\t\t\t\t\t\t\t\t\t} else {\n",
            "\t\t\t\t\t\t\t\t\t\t\treturn 1u32;\n",
            "\t\t\t\t\t\t\t\t\t\t}\n",
            "\t\t\t\t\t\t\t\t\t}\n",
            "\t\t\t\t\t\t\t\t} else {\n",
            "\t\t\t\t\t\t\t\t\tif (p5 < 6u32) {\n",
            "\t\t\t\t\t\t\t\t\t\treturn 1u32;\n",
            "\t\t\t\t\t\t\t\t\t} else {\n",
            "\t\t\t\t\t\t\t\t\t\treturn 0u32;\n",
            "\t\t\t\t\t\t\t\t\t}\n",
            "\t\t\t\t\t\t\t\t}\n",
            "\t\t\t\t\t\t\t}\n",
            "\t\t\t\t\t\t}\n",
            "\t\t\t\t\t}\n",
            "\t\t\t\t}\n",
            "\t\t\t} else {\n",
            "\t\t\t\treturn 0u32;\n",
            "\t\t\t}\n",
            "\t\t} else {\n",
            "\t\t\tif (p4 < 117u32) {\n",
            "\t\t\t\tif (p4 < 109u32) {\n",
            "\t\t\t\t\treturn 0u32;\n",
            "\t\t\t\t} else {\n",
            "\t\t\t\t\treturn 0u32;\n",
            "\t\t\t\t}\n",
            "\t\t\t} else {\n",
            "\t\t\t\treturn 0u32;\n",
            "\t\t\t}\n",
            "\t\t}\n",
            "\t}\n",
            "}\n"
          ]
        }
      ],
      "source": [
        "import numpy as np\n",
        "import math\n",
        "from sklearn import tree\n",
        "\n",
        "def dt_to_leo_code(clf: tree.DecisionTreeClassifier, program_name: str):\n",
        "  n_nodes = clf.tree_.node_count\n",
        "  children_left = clf.tree_.children_left\n",
        "  children_right = clf.tree_.children_right\n",
        "  feature = clf.tree_.feature\n",
        "  threshold = clf.tree_.threshold\n",
        "  values = [np.argmax(value[0]) for value in clf.tree_.value]\n",
        "\n",
        "  node_depth = np.zeros(shape=n_nodes, dtype=np.int64)\n",
        "  is_leaves = np.zeros(shape=n_nodes, dtype=bool)\n",
        "  stack = [(0, 0)] \n",
        "  while len(stack) > 0:\n",
        "      node_id, depth = stack.pop()\n",
        "      node_depth[node_id] = depth\n",
        "      is_split_node = children_left[node_id] != children_right[node_id]\n",
        "      if is_split_node:\n",
        "          stack.append((children_left[node_id], depth + 1))\n",
        "          stack.append((children_right[node_id], depth + 1))\n",
        "      else:\n",
        "          is_leaves[node_id] = True\n",
        "\n",
        "\n",
        "  def build_code(i):\n",
        "    if is_leaves[i]:\n",
        "      return node_depth[i] * \"\\t\" + f\"return {values[i]}u32;\\n\"\n",
        "    leo_code = \"\"\n",
        "    leo_threshold = math.ceil(threshold[i])\n",
        "    comp = \"<\" if int(threshold[i]) != threshold[i] else \"<=\"\n",
        "    leo_code += node_depth[i] * \"\\t\" + f\"if (p{(feature[i] + 1)} {comp} {leo_threshold}u32) {{\\n\"\n",
        "    leo_code += build_code(children_left[i])\n",
        "    leo_code += node_depth[i] * \"\\t\" + \"} else {\\n\"\n",
        "    leo_code += build_code(children_right[i])\n",
        "    leo_code += node_depth[i] * \"\\t\" + \"}\\n\" \n",
        "    return leo_code\n",
        "\n",
        "  leo_code = f\"program {program_name} {{\\n\" \n",
        "  leo_code += \"\\t\" + \"// Code auto generated from DecisionTreeClassifier using dt_to_leo_code.py \\n\"\n",
        "  leo_code += \"\\t\" + \"transition main(\"\n",
        "  for i in range(1, clf.n_features_in_ + 1):\n",
        "    leo_code += f\"p{i}: u32\" + (\", \" if i != clf.n_features_in_ else \") -> public u32 {\\n\")\n",
        "\n",
        "  node_depth += 2\n",
        "  leo_code += build_code(0)\n",
        "  leo_code += \"\\t}\\n}\" \n",
        "  return leo_code\n",
        "\n",
        "print(dt_to_leo_code(clf, \"dt.aleo\"))"
      ]
    }
  ],
  "metadata": {
    "colab": {
      "provenance": []
    },
    "kernelspec": {
      "display_name": "Python 3",
      "name": "python3"
    },
    "language_info": {
      "codemirror_mode": {
        "name": "ipython",
        "version": 3
      },
      "file_extension": ".py",
      "mimetype": "text/x-python",
      "name": "python",
      "nbconvert_exporter": "python",
      "pygments_lexer": "ipython3",
      "version": "3.8.3"
    }
  },
  "nbformat": 4,
  "nbformat_minor": 0
}
